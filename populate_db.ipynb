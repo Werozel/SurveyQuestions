{
 "cells": [
  {
   "cell_type": "code",
   "execution_count": 1,
   "metadata": {
    "collapsed": true
   },
   "outputs": [],
   "source": [
    "from globals import session_factory\n",
    "from models.Question import AnswerType\n",
    "from src.normalizer import transform_questions\n",
    "from pymorphy2 import MorphAnalyzer\n",
    "import src.populate_db as populate"
   ]
  },
  {
   "cell_type": "markdown",
   "source": [
    "# Psychological questions"
   ],
   "metadata": {
    "collapsed": false
   }
  },
  {
   "cell_type": "code",
   "execution_count": 5,
   "outputs": [],
   "source": [
    "populate.remove_all_questions()"
   ],
   "metadata": {
    "collapsed": false
   }
  },
  {
   "cell_type": "code",
   "execution_count": 6,
   "outputs": [],
   "source": [
    "populate.populate_from_file(\"questions/psy_yes_no.txt\", answer_type=AnswerType.YES_NO)\n",
    "populate.populate_from_file(\"questions/psy_range_5.txt\", answer_type=AnswerType.RANGE_5)\n",
    "populate.populate_from_file(\"questions/psy_range_7.txt\", answer_type=AnswerType.RANGE_7)"
   ],
   "metadata": {
    "collapsed": false
   }
  },
  {
   "cell_type": "markdown",
   "source": [
    "# Question normalization"
   ],
   "metadata": {
    "collapsed": false
   }
  },
  {
   "cell_type": "code",
   "execution_count": 7,
   "outputs": [],
   "source": [
    "with session_factory() as session:\n",
    "    transform_questions(\n",
    "        morph=MorphAnalyzer(),\n",
    "        session=session\n",
    "    )\n",
    "    session.commit()"
   ],
   "metadata": {
    "collapsed": false
   }
  }
 ],
 "metadata": {
  "kernelspec": {
   "display_name": "Python 3",
   "language": "python",
   "name": "python3"
  },
  "language_info": {
   "codemirror_mode": {
    "name": "ipython",
    "version": 2
   },
   "file_extension": ".py",
   "mimetype": "text/x-python",
   "name": "python",
   "nbconvert_exporter": "python",
   "pygments_lexer": "ipython2",
   "version": "2.7.6"
  }
 },
 "nbformat": 4,
 "nbformat_minor": 0
}
