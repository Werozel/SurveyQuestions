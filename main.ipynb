{
 "cells": [
  {
   "cell_type": "code",
   "execution_count": 11,
   "metadata": {
    "collapsed": true
   },
   "outputs": [],
   "source": [
    "import random\n",
    "\n",
    "import nltk\n",
    "from pymorphy2 import MorphAnalyzer\n",
    "from sklearn.feature_extraction.text import TfidfVectorizer\n",
    "from sklearn.decomposition import TruncatedSVD\n",
    "import pandas as pd\n",
    "from sklearn.metrics.pairwise import cosine_similarity\n",
    "\n",
    "from globals import create_tables, session_factory\n",
    "from models.Question import Question\n",
    "from src.normalizer import normalize_str"
   ]
  },
  {
   "cell_type": "code",
   "execution_count": 12,
   "outputs": [],
   "source": [
    "create_tables()"
   ],
   "metadata": {
    "collapsed": false
   }
  },
  {
   "cell_type": "code",
   "execution_count": 13,
   "outputs": [
    {
     "name": "stderr",
     "output_type": "stream",
     "text": [
      "[nltk_data] Error loading punkt: <urlopen error [SSL:\n",
      "[nltk_data]     CERTIFICATE_VERIFY_FAILED] certificate verify failed:\n",
      "[nltk_data]     unable to get local issuer certificate (_ssl.c:997)>\n",
      "[nltk_data] Error loading stopwords: <urlopen error [SSL:\n",
      "[nltk_data]     CERTIFICATE_VERIFY_FAILED] certificate verify failed:\n",
      "[nltk_data]     unable to get local issuer certificate (_ssl.c:997)>\n"
     ]
    },
    {
     "data": {
      "text/plain": "False"
     },
     "execution_count": 13,
     "metadata": {},
     "output_type": "execute_result"
    }
   ],
   "source": [
    "nltk.download(\"punkt\")\n",
    "nltk.download(\"stopwords\")"
   ],
   "metadata": {
    "collapsed": false
   }
  },
  {
   "cell_type": "code",
   "execution_count": 14,
   "outputs": [],
   "source": [
    "# QUESTION_TO_SEARCH = \"Часто я бросаю даже важную деятельность, если усилия, которые требуются, становятся слишком неприятными.\"\n",
    "QUESTION_TO_SEARCH = \"Вы считаете себя недооцененным?\"\n",
    "normalized_question = normalize_str(QUESTION_TO_SEARCH, MorphAnalyzer())"
   ],
   "metadata": {
    "collapsed": false
   }
  },
  {
   "cell_type": "code",
   "execution_count": 15,
   "outputs": [
    {
     "data": {
      "text/plain": "                                                 raw  \\\n0                    Вы считаете себя недооцененным?   \n1                       У Вас есть тяга к рисованию?   \n2  Я все время ищу способ, который поможет мне за...   \n3       Я чувствую себя сексуально непривлекательным   \n4      Я чувствую, как жизнь уходит из меня по капле   \n5     Я чувствую себя лишним человеком в своей семье   \n6  Единственная возможность достойно пройти свой ...   \n7          Я не доволен тем, как сложилась моя жизнь   \n8  Потери невосполнимы, и если уйдут из моей жизн...   \n9     Семья — это рабство, одиночество — это свобода   \n\n                                         transformed  \n0                                считать недооценить  \n1                                     тяга рисование  \n2  время искать способ который помочь забыться пе...  \n3           чувствовать сексуально непривлекательный  \n4                    чувствовать жизнь уходить капля  \n5              чувствовать лишний человек свой семья  \n6  единственный возможность достойно пройти свой ...  \n7                          довольный сложиться жизнь  \n8  потеря невосполнимый уйти мой жизнь близкий че...  \n9          семья это рабство одиночество это свобода  ",
      "text/html": "<div>\n<style scoped>\n    .dataframe tbody tr th:only-of-type {\n        vertical-align: middle;\n    }\n\n    .dataframe tbody tr th {\n        vertical-align: top;\n    }\n\n    .dataframe thead th {\n        text-align: right;\n    }\n</style>\n<table border=\"1\" class=\"dataframe\">\n  <thead>\n    <tr style=\"text-align: right;\">\n      <th></th>\n      <th>raw</th>\n      <th>transformed</th>\n    </tr>\n  </thead>\n  <tbody>\n    <tr>\n      <th>0</th>\n      <td>Вы считаете себя недооцененным?</td>\n      <td>считать недооценить</td>\n    </tr>\n    <tr>\n      <th>1</th>\n      <td>У Вас есть тяга к рисованию?</td>\n      <td>тяга рисование</td>\n    </tr>\n    <tr>\n      <th>2</th>\n      <td>Я все время ищу способ, который поможет мне за...</td>\n      <td>время искать способ который помочь забыться пе...</td>\n    </tr>\n    <tr>\n      <th>3</th>\n      <td>Я чувствую себя сексуально непривлекательным</td>\n      <td>чувствовать сексуально непривлекательный</td>\n    </tr>\n    <tr>\n      <th>4</th>\n      <td>Я чувствую, как жизнь уходит из меня по капле</td>\n      <td>чувствовать жизнь уходить капля</td>\n    </tr>\n    <tr>\n      <th>5</th>\n      <td>Я чувствую себя лишним человеком в своей семье</td>\n      <td>чувствовать лишний человек свой семья</td>\n    </tr>\n    <tr>\n      <th>6</th>\n      <td>Единственная возможность достойно пройти свой ...</td>\n      <td>единственный возможность достойно пройти свой ...</td>\n    </tr>\n    <tr>\n      <th>7</th>\n      <td>Я не доволен тем, как сложилась моя жизнь</td>\n      <td>довольный сложиться жизнь</td>\n    </tr>\n    <tr>\n      <th>8</th>\n      <td>Потери невосполнимы, и если уйдут из моей жизн...</td>\n      <td>потеря невосполнимый уйти мой жизнь близкий че...</td>\n    </tr>\n    <tr>\n      <th>9</th>\n      <td>Семья — это рабство, одиночество — это свобода</td>\n      <td>семья это рабство одиночество это свобода</td>\n    </tr>\n  </tbody>\n</table>\n</div>"
     },
     "execution_count": 15,
     "metadata": {},
     "output_type": "execute_result"
    }
   ],
   "source": [
    "with session_factory() as session:\n",
    "    question_pair = [(QUESTION_TO_SEARCH, normalized_question)] + session.query(Question.raw, Question.transformed).all()\n",
    "df = pd.DataFrame(question_pair, columns=['raw', 'transformed'])\n",
    "df.head(10)"
   ],
   "metadata": {
    "collapsed": false
   }
  },
  {
   "cell_type": "markdown",
   "source": [
    "# Helpers"
   ],
   "metadata": {
    "collapsed": false
   }
  },
  {
   "cell_type": "code",
   "execution_count": 16,
   "outputs": [],
   "source": [
    "def print_closest(model_df: pd.DataFrame):\n",
    "    cos_sim = cosine_similarity(model_df)\n",
    "    enum_cos_sim = enumerate(cos_sim[0])\n",
    "    enum_sort_cos_sim = sorted(enum_cos_sim, key=lambda x: x[1], reverse=True)\n",
    "    print(QUESTION_TO_SEARCH, end=\"\\n\\n\")\n",
    "    for i, score in enum_sort_cos_sim[1: 10]:\n",
    "        print(score, df[\"raw\"][i], sep=\": \")"
   ],
   "metadata": {
    "collapsed": false
   }
  },
  {
   "cell_type": "markdown",
   "source": [
    "# Tf-Idf"
   ],
   "metadata": {
    "collapsed": false
   }
  },
  {
   "cell_type": "code",
   "execution_count": 17,
   "outputs": [],
   "source": [
    "tfidf_vect = TfidfVectorizer(\n",
    "    analyzer='word',\n",
    "    max_df=0.95,\n",
    "    min_df=3,\n",
    "    ngram_range=(1, 2),\n",
    "    max_features=100_000,\n",
    "    stop_words=nltk.corpus.stopwords.words('russian')\n",
    ")\n",
    "tfidf_model = pd.DataFrame.sparse.from_spmatrix(\n",
    "    tfidf_vect.fit_transform(df['transformed'])\n",
    ")"
   ],
   "metadata": {
    "collapsed": false
   }
  },
  {
   "cell_type": "code",
   "execution_count": 18,
   "outputs": [
    {
     "name": "stdout",
     "output_type": "stream",
     "text": [
      "Вы считаете себя недооцененным?\n",
      "\n",
      "1.0: Я считаю, что не грех иногда пожалеть самого себя.\n",
      "0.6947116602249878: Вас считают хорошим рассказчиком?\n",
      "0.6496336888070184: Я считаю, что при неудачах нельзя отчаиваться.\n",
      "0.550434878470806: Считаю, что я ничем не отличаюсь от большинства людей.\n",
      "0.5380255967589899: Я считаю, что жизнь справедлива ко мне\n",
      "0.49382294508472385: Я считаю себя виноватым перед родителями.\n",
      "0.4908996451792499: Другие находят у меня крупные недостатки, я считаю, что они преувеличивают.\n",
      "0.48454859720231064: Я считаю, что никто не должен отрываться от коллектива.\n",
      "0.4834283477724685: Я не считаю, что достаточно духовно интересен для того, чтобы быть притягательным для многих людей.\n"
     ]
    }
   ],
   "source": [
    "print_closest(tfidf_model)"
   ],
   "metadata": {
    "collapsed": false
   }
  },
  {
   "cell_type": "markdown",
   "source": [
    "# LSA"
   ],
   "metadata": {
    "collapsed": false
   }
  },
  {
   "cell_type": "code",
   "execution_count": 19,
   "outputs": [],
   "source": [
    "# TODO: CountVectoriser\n",
    "lsa = TruncatedSVD(\n",
    "    n_components=100,\n",
    "    n_iter=1000\n",
    ")\n",
    "lsa_model = lsa.fit_transform(tfidf_model)"
   ],
   "metadata": {
    "collapsed": false
   }
  },
  {
   "cell_type": "code",
   "execution_count": 20,
   "outputs": [
    {
     "name": "stdout",
     "output_type": "stream",
     "text": [
      "Вы считаете себя недооцененным?\n",
      "\n",
      "1.0000000000000007: Я считаю, что не грех иногда пожалеть самого себя.\n",
      "0.7915766379057013: Считаю, что я ничем не отличаюсь от большинства людей.\n",
      "0.7507032865039938: Я считаю, что жизнь справедлива ко мне\n",
      "0.7424893041569376: Где-то в глубине души я считаю себя слабаком.\n",
      "0.7175775324114347: Я считаю, что при неудачах нельзя отчаиваться.\n",
      "0.7065661481974279: Другие находят у меня крупные недостатки, я считаю, что они преувеличивают.\n",
      "0.7049635056948035: Вас считают хорошим рассказчиком?\n",
      "0.6538421550356885: Я считаю себя виноватым перед родителями.\n",
      "0.6016834337365947: Я считаю, что никто не должен отрываться от коллектива.\n"
     ]
    }
   ],
   "source": [
    "print_closest(lsa_model)"
   ],
   "metadata": {
    "collapsed": false
   }
  },
  {
   "cell_type": "code",
   "execution_count": 20,
   "outputs": [],
   "source": [],
   "metadata": {
    "collapsed": false
   }
  }
 ],
 "metadata": {
  "kernelspec": {
   "display_name": "Python 3",
   "language": "python",
   "name": "python3"
  },
  "language_info": {
   "codemirror_mode": {
    "name": "ipython",
    "version": 2
   },
   "file_extension": ".py",
   "mimetype": "text/x-python",
   "name": "python",
   "nbconvert_exporter": "python",
   "pygments_lexer": "ipython2",
   "version": "2.7.6"
  }
 },
 "nbformat": 4,
 "nbformat_minor": 0
}
