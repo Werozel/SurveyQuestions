{
 "cells": [
  {
   "cell_type": "code",
   "execution_count": 216,
   "metadata": {
    "collapsed": true
   },
   "outputs": [],
   "source": [
    "import random\n",
    "\n",
    "import nltk\n",
    "from pymorphy2 import MorphAnalyzer\n",
    "from sklearn.feature_extraction.text import TfidfVectorizer\n",
    "from sklearn.decomposition import TruncatedSVD\n",
    "import pandas as pd\n",
    "from sklearn.metrics.pairwise import cosine_similarity\n",
    "\n",
    "from globals import create_tables, session_factory\n",
    "from models.Question import Question\n",
    "from src.normalizer import normalize_str"
   ]
  },
  {
   "cell_type": "code",
   "execution_count": 217,
   "outputs": [],
   "source": [
    "create_tables()"
   ],
   "metadata": {
    "collapsed": false
   }
  },
  {
   "cell_type": "code",
   "execution_count": 218,
   "outputs": [
    {
     "name": "stderr",
     "output_type": "stream",
     "text": [
      "[nltk_data] Error loading punkt: <urlopen error [SSL:\n",
      "[nltk_data]     CERTIFICATE_VERIFY_FAILED] certificate verify failed:\n",
      "[nltk_data]     unable to get local issuer certificate (_ssl.c:997)>\n",
      "[nltk_data] Error loading stopwords: <urlopen error [SSL:\n",
      "[nltk_data]     CERTIFICATE_VERIFY_FAILED] certificate verify failed:\n",
      "[nltk_data]     unable to get local issuer certificate (_ssl.c:997)>\n"
     ]
    },
    {
     "data": {
      "text/plain": "False"
     },
     "execution_count": 218,
     "metadata": {},
     "output_type": "execute_result"
    }
   ],
   "source": [
    "nltk.download(\"punkt\")\n",
    "nltk.download(\"stopwords\")"
   ],
   "metadata": {
    "collapsed": false
   }
  },
  {
   "cell_type": "code",
   "execution_count": 219,
   "outputs": [],
   "source": [
    "QUESTION_TO_SEARCH = \"Часто я бросаю даже важную деятельность, если усилия, которые требуются, становятся слишком неприятными.\"\n",
    "normalized_question = normalize_str(QUESTION_TO_SEARCH, MorphAnalyzer())"
   ],
   "metadata": {
    "collapsed": false
   }
  },
  {
   "cell_type": "code",
   "execution_count": 220,
   "outputs": [
    {
     "data": {
      "text/plain": "                                                 raw  \\\n0  Часто я бросаю даже важную деятельность, если ...   \n1                       У Вас есть тяга к рисованию?   \n2  Чтобы понять что-либо, Вы часто обращаетесь к ...   \n3  Вам вполне понятен язык знаков, формул, графиков?   \n4  Доставляет ли Вам удовольствие пересказывать у...   \n5  Вы стараетесь скорее обобщить имеющуюся информ...   \n6  У Вас обычно много времени занимает переосмысл...   \n7  Вам проще понять что-либо, повертев в своих ру...   \n8  Вы стараетесь обогатить свою речь метафорическ...   \n9  Являются ли рисование, лепка, декоративно-прик...   \n\n                                         transformed  \n0  часто бросать важный деятельность усилие котор...  \n1                                     тяга рисование  \n2  понять либо часто обращаться образный представ...  \n3           вполне понятный язык знак формула график  \n4  доставлять удовольствие пересказывать увидеть ...  \n5  стараться скорее обобщить иметься информация у...  \n6  обычно время занимать переосмысление видеть сл...  \n7  простой понять либо повертеть свой рука собрат...  \n8  стараться обогатить речь метафорический выражение  \n9  являться рисование лепка декоративный прикладн...  ",
      "text/html": "<div>\n<style scoped>\n    .dataframe tbody tr th:only-of-type {\n        vertical-align: middle;\n    }\n\n    .dataframe tbody tr th {\n        vertical-align: top;\n    }\n\n    .dataframe thead th {\n        text-align: right;\n    }\n</style>\n<table border=\"1\" class=\"dataframe\">\n  <thead>\n    <tr style=\"text-align: right;\">\n      <th></th>\n      <th>raw</th>\n      <th>transformed</th>\n    </tr>\n  </thead>\n  <tbody>\n    <tr>\n      <th>0</th>\n      <td>Часто я бросаю даже важную деятельность, если ...</td>\n      <td>часто бросать важный деятельность усилие котор...</td>\n    </tr>\n    <tr>\n      <th>1</th>\n      <td>У Вас есть тяга к рисованию?</td>\n      <td>тяга рисование</td>\n    </tr>\n    <tr>\n      <th>2</th>\n      <td>Чтобы понять что-либо, Вы часто обращаетесь к ...</td>\n      <td>понять либо часто обращаться образный представ...</td>\n    </tr>\n    <tr>\n      <th>3</th>\n      <td>Вам вполне понятен язык знаков, формул, графиков?</td>\n      <td>вполне понятный язык знак формула график</td>\n    </tr>\n    <tr>\n      <th>4</th>\n      <td>Доставляет ли Вам удовольствие пересказывать у...</td>\n      <td>доставлять удовольствие пересказывать увидеть ...</td>\n    </tr>\n    <tr>\n      <th>5</th>\n      <td>Вы стараетесь скорее обобщить имеющуюся информ...</td>\n      <td>стараться скорее обобщить иметься информация у...</td>\n    </tr>\n    <tr>\n      <th>6</th>\n      <td>У Вас обычно много времени занимает переосмысл...</td>\n      <td>обычно время занимать переосмысление видеть сл...</td>\n    </tr>\n    <tr>\n      <th>7</th>\n      <td>Вам проще понять что-либо, повертев в своих ру...</td>\n      <td>простой понять либо повертеть свой рука собрат...</td>\n    </tr>\n    <tr>\n      <th>8</th>\n      <td>Вы стараетесь обогатить свою речь метафорическ...</td>\n      <td>стараться обогатить речь метафорический выражение</td>\n    </tr>\n    <tr>\n      <th>9</th>\n      <td>Являются ли рисование, лепка, декоративно-прик...</td>\n      <td>являться рисование лепка декоративный прикладн...</td>\n    </tr>\n  </tbody>\n</table>\n</div>"
     },
     "execution_count": 220,
     "metadata": {},
     "output_type": "execute_result"
    }
   ],
   "source": [
    "with session_factory() as session:\n",
    "    question_pair = [(QUESTION_TO_SEARCH, normalized_question)] + session.query(Question.raw, Question.transformed).all()\n",
    "df = pd.DataFrame(question_pair, columns=['raw', 'transformed'])\n",
    "df.head(10)"
   ],
   "metadata": {
    "collapsed": false
   }
  },
  {
   "cell_type": "markdown",
   "source": [
    "# Helpers"
   ],
   "metadata": {
    "collapsed": false
   }
  },
  {
   "cell_type": "code",
   "execution_count": 221,
   "outputs": [],
   "source": [
    "def print_closest(model_df: pd.DataFrame):\n",
    "    cos_sim = cosine_similarity(model_df)\n",
    "    enum_cos_sim = enumerate(cos_sim[0])\n",
    "    enum_sort_cos_sim = sorted(enum_cos_sim, key=lambda x: x[1], reverse=True)\n",
    "    print(QUESTION_TO_SEARCH, end=\"\\n\\n\")\n",
    "    for i, score in enum_sort_cos_sim[1: 10]:\n",
    "        print(score, df[\"raw\"][i], sep=\": \")"
   ],
   "metadata": {
    "collapsed": false
   }
  },
  {
   "cell_type": "markdown",
   "source": [
    "# Tf-Idf"
   ],
   "metadata": {
    "collapsed": false
   }
  },
  {
   "cell_type": "code",
   "execution_count": 222,
   "outputs": [],
   "source": [
    "tfidf_vect = TfidfVectorizer(\n",
    "    analyzer='word',\n",
    "    max_df=0.95,\n",
    "    min_df=3,\n",
    "    ngram_range=(1, 2),\n",
    "    max_features=100_000,\n",
    "    stop_words=nltk.corpus.stopwords.words('russian')\n",
    ")\n",
    "tfidf_model = pd.DataFrame.sparse.from_spmatrix(\n",
    "    tfidf_vect.fit_transform(df['transformed'])\n",
    ")"
   ],
   "metadata": {
    "collapsed": false
   }
  },
  {
   "cell_type": "code",
   "execution_count": 223,
   "outputs": [
    {
     "name": "stdout",
     "output_type": "stream",
     "text": [
      "Часто я бросаю даже важную деятельность, если усилия, которые требуются, становятся слишком неприятными.\n",
      "\n",
      "0.4594915400764113: Я слишком раздражителен.\n",
      "0.3545734229604015: Ваши знакомые говорят Вам, что Вы слишком часто прибегаете к абстракциям?\n",
      "0.3356153949848156: Как часто вы злитесь по поводу вещей, которые вы не можете контролировать?\n",
      "0.32321698272450977: Я стараюсь придерживаться диеты, которую сам разработал.\n",
      "0.3220484889209827: Как часто вы в силах контролировать раздражение?\n",
      "0.31431192543810343: Для меня важен не один друг, а дружный хороший коллектив.\n",
      "0.3138746955185958: Я слишком мнителен, без конца тревожусь и беспокоюсь обо всем.\n",
      "0.2787355381304951: Жизнь научила меня не быть слишком откровенным даже с друзьями.\n",
      "0.25211067447553254: Люблю одежду модную и необычную, которая невольно привлекает взоры.\n"
     ]
    }
   ],
   "source": [
    "print_closest(tfidf_model)"
   ],
   "metadata": {
    "collapsed": false
   }
  },
  {
   "cell_type": "markdown",
   "source": [
    "# LSA"
   ],
   "metadata": {
    "collapsed": false
   }
  },
  {
   "cell_type": "code",
   "execution_count": 228,
   "outputs": [],
   "source": [
    "lsa = TruncatedSVD(\n",
    "    n_components=100,\n",
    "    n_iter=1000\n",
    ")\n",
    "lsa_model = lsa.fit_transform(tfidf_model)"
   ],
   "metadata": {
    "collapsed": false
   }
  },
  {
   "cell_type": "code",
   "execution_count": 229,
   "outputs": [
    {
     "name": "stdout",
     "output_type": "stream",
     "text": [
      "Часто я бросаю даже важную деятельность, если усилия, которые требуются, становятся слишком неприятными.\n",
      "\n",
      "0.6277805678639421: Я слишком раздражителен.\n",
      "0.5278071982023371: Ваши знакомые говорят Вам, что Вы слишком часто прибегаете к абстракциям?\n",
      "0.5107065245833922: Как часто вы злитесь по поводу вещей, которые вы не можете контролировать?\n",
      "0.4181867521815881: Я слишком мнителен, без конца тревожусь и беспокоюсь обо всем.\n",
      "0.41659958109774453: Жизнь научила меня не быть слишком откровенным даже с друзьями.\n",
      "0.41289837919341627: Я стараюсь придерживаться диеты, которую сам разработал.\n",
      "0.4090394782710726: Как часто вы в силах контролировать раздражение?\n",
      "0.359734402341696: Люблю одежду модную и необычную, которая невольно привлекает взоры.\n",
      "0.33812384986032173: Я ценю такого друга, который умеет меня выслушать, приободрить, вселить уверенность, успокоить.\n"
     ]
    }
   ],
   "source": [
    "print_closest(lsa_model)"
   ],
   "metadata": {
    "collapsed": false
   }
  },
  {
   "cell_type": "code",
   "execution_count": null,
   "outputs": [],
   "source": [],
   "metadata": {
    "collapsed": false
   }
  }
 ],
 "metadata": {
  "kernelspec": {
   "display_name": "Python 3",
   "language": "python",
   "name": "python3"
  },
  "language_info": {
   "codemirror_mode": {
    "name": "ipython",
    "version": 2
   },
   "file_extension": ".py",
   "mimetype": "text/x-python",
   "name": "python",
   "nbconvert_exporter": "python",
   "pygments_lexer": "ipython2",
   "version": "2.7.6"
  }
 },
 "nbformat": 4,
 "nbformat_minor": 0
}
