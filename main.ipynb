{
 "cells": [
  {
   "cell_type": "code",
   "execution_count": 1,
   "metadata": {
    "collapsed": true
   },
   "outputs": [],
   "source": [
    "import nltk\n",
    "\n",
    "from globals import create_tables"
   ]
  },
  {
   "cell_type": "code",
   "execution_count": 2,
   "outputs": [],
   "source": [
    "create_tables()"
   ],
   "metadata": {
    "collapsed": false
   }
  },
  {
   "cell_type": "code",
   "execution_count": 3,
   "outputs": [
    {
     "name": "stderr",
     "output_type": "stream",
     "text": [
      "[nltk_data] Error loading punkt: <urlopen error [SSL:\n",
      "[nltk_data]     CERTIFICATE_VERIFY_FAILED] certificate verify failed:\n",
      "[nltk_data]     unable to get local issuer certificate (_ssl.c:997)>\n",
      "[nltk_data] Error loading stopwords: <urlopen error [SSL:\n",
      "[nltk_data]     CERTIFICATE_VERIFY_FAILED] certificate verify failed:\n",
      "[nltk_data]     unable to get local issuer certificate (_ssl.c:997)>\n"
     ]
    },
    {
     "data": {
      "text/plain": "False"
     },
     "execution_count": 3,
     "metadata": {},
     "output_type": "execute_result"
    }
   ],
   "source": [
    "nltk.download(\"punkt\")\n",
    "nltk.download(\"stopwords\")"
   ],
   "metadata": {
    "collapsed": false
   }
  },
  {
   "cell_type": "code",
   "execution_count": 4,
   "outputs": [],
   "source": [
    "# QUESTION_TO_SEARCH = \"Часто я бросаю даже важную деятельность, если усилия, которые требуются, становятся слишком неприятными.\"\n",
    "QUESTION_TO_SEARCH = \"Вы считаете себя недооцененным?\""
   ],
   "metadata": {
    "collapsed": false
   }
  },
  {
   "cell_type": "markdown",
   "source": [
    "# Tf-Idf"
   ],
   "metadata": {
    "collapsed": false
   }
  },
  {
   "cell_type": "code",
   "execution_count": 5,
   "outputs": [],
   "source": [
    "from src.search import Searcher\n",
    "\n",
    "tfidf_results = Searcher.get_tfidf_results(QUESTION_TO_SEARCH)"
   ],
   "metadata": {
    "collapsed": false
   }
  },
  {
   "cell_type": "code",
   "execution_count": 6,
   "outputs": [
    {
     "name": "stdout",
     "output_type": "stream",
     "text": [
      "Вы считаете себя недооцененным?\n",
      "\n",
      "1.0: Я считаю, что не грех иногда пожалеть самого себя.\n",
      "0.6947116602249878: Вас считают хорошим рассказчиком?\n",
      "0.6496336888070184: Я считаю, что при неудачах нельзя отчаиваться.\n",
      "0.550434878470806: Считаю, что я ничем не отличаюсь от большинства людей.\n",
      "0.5380255967589899: Я считаю, что жизнь справедлива ко мне\n",
      "0.49382294508472385: Я считаю себя виноватым перед родителями.\n",
      "0.4908996451792499: Другие находят у меня крупные недостатки, я считаю, что они преувеличивают.\n",
      "0.48454859720231064: Я считаю, что никто не должен отрываться от коллектива.\n",
      "0.4834283477724685: Я не считаю, что достаточно духовно интересен для того, чтобы быть притягательным для многих людей.\n"
     ]
    }
   ],
   "source": [
    "Searcher.print_closest(QUESTION_TO_SEARCH, tfidf_results)"
   ],
   "metadata": {
    "collapsed": false
   }
  },
  {
   "cell_type": "markdown",
   "source": [
    "# LSA"
   ],
   "metadata": {
    "collapsed": false
   }
  },
  {
   "cell_type": "code",
   "execution_count": 7,
   "outputs": [],
   "source": [
    "# TODO: CountVectoriser\n",
    "lsa_results = Searcher.get_lsa_results(QUESTION_TO_SEARCH)"
   ],
   "metadata": {
    "collapsed": false
   }
  },
  {
   "cell_type": "code",
   "execution_count": 8,
   "outputs": [
    {
     "name": "stdout",
     "output_type": "stream",
     "text": [
      "Вы считаете себя недооцененным?\n",
      "\n",
      "1.0000000000000002: Я считаю, что не грех иногда пожалеть самого себя.\n",
      "0.7915766379057011: Считаю, что я ничем не отличаюсь от большинства людей.\n",
      "0.7507032865039936: Я считаю, что жизнь справедлива ко мне\n",
      "0.7424893041569373: Где-то в глубине души я считаю себя слабаком.\n",
      "0.7175775324114352: Я считаю, что при неудачах нельзя отчаиваться.\n",
      "0.7065661481974269: Другие находят у меня крупные недостатки, я считаю, что они преувеличивают.\n",
      "0.7049635056948034: Вас считают хорошим рассказчиком?\n",
      "0.6538421550356891: Я считаю себя виноватым перед родителями.\n",
      "0.6016834337365938: Я считаю, что никто не должен отрываться от коллектива.\n"
     ]
    }
   ],
   "source": [
    "Searcher.print_closest(QUESTION_TO_SEARCH, lsa_results)"
   ],
   "metadata": {
    "collapsed": false
   }
  },
  {
   "cell_type": "code",
   "execution_count": 8,
   "outputs": [],
   "source": [],
   "metadata": {
    "collapsed": false
   }
  }
 ],
 "metadata": {
  "kernelspec": {
   "display_name": "Python 3",
   "language": "python",
   "name": "python3"
  },
  "language_info": {
   "codemirror_mode": {
    "name": "ipython",
    "version": 2
   },
   "file_extension": ".py",
   "mimetype": "text/x-python",
   "name": "python",
   "nbconvert_exporter": "python",
   "pygments_lexer": "ipython2",
   "version": "2.7.6"
  }
 },
 "nbformat": 4,
 "nbformat_minor": 0
}
